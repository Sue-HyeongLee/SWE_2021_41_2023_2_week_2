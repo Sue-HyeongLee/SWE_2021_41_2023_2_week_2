{
  "nbformat": 4,
  "nbformat_minor": 0,
  "metadata": {
    "colab": {
      "provenance": []
    },
    "kernelspec": {
      "name": "python3",
      "display_name": "Python 3"
    },
    "language_info": {
      "name": "python"
    }
  },
  "cells": [
    {
      "cell_type": "markdown",
      "source": [
        "## Task\n",
        "- Complete **isHappy** function following the description below\n",
        "\n",
        "### Happy Number\n",
        "Write an algorithm to determine if a number **n** is happy.\n",
        "\n",
        "A **happy number** is a number defined by the following process:\n",
        "\n",
        "* Starting with any positive integer, replace the number by the sum of the squares of its digits.\n",
        "* Repeat the process until the number equals 1 (where it will stay), or it **loops endlessly in a cycle** which does not include 1.\n",
        "* Those numbers for which this process **ends in 1** are happy.\n",
        "\n",
        "Return **true** if n is a happy number, and **false** if not.\n",
        "\n",
        "Constraints:\n",
        "1 <= n <= $2^{31}$ - 1"
      ],
      "metadata": {
        "id": "TV3Socqg8BVl"
      }
    },
    {
      "cell_type": "code",
      "execution_count": 3,
      "metadata": {
        "id": "5FcxitVf5kdQ",
        "outputId": "9911b34b-0b99-47ba-dfc5-724ef2a2219b",
        "colab": {
          "base_uri": "https://localhost:8080/"
        }
      },
      "outputs": [
        {
          "output_type": "stream",
          "name": "stdout",
          "text": [
            "False 0\n",
            "True 1\n",
            "False 2\n",
            "False 3\n",
            "False 4\n",
            "False 5\n",
            "False 6\n",
            "True 7\n",
            "False 8\n",
            "False 9\n",
            "True 10\n",
            "False 11\n",
            "False 12\n",
            "True 13\n",
            "False 14\n",
            "False 15\n",
            "False 16\n",
            "False 17\n",
            "False 18\n",
            "True 19\n"
          ]
        }
      ],
      "source": [
        "def isHappy(n):\n",
        "  n = str(n)\n",
        "  sum = 0\n",
        "  for i in n:\n",
        "    sum+= int(i)**2\n",
        "  if sum == 1 or sum == 7:\n",
        "    return True\n",
        "  elif len(str(sum)) == 1:\n",
        "    return False\n",
        "  else:\n",
        "    return isHappy(sum)\n",
        "\n",
        "'''\n",
        "#Testcase 1\n",
        "input1 = 19\n",
        "print(isHappy(input1))\n",
        "\n",
        "#Testcase 2\n",
        "input2 = 2\n",
        "print(isHappy(input2))\n",
        "'''\n",
        "for i in range(20):\n",
        "  print(isHappy(i), i)\n",
        "\n",
        "\n",
        "\n"
      ]
    },
    {
      "cell_type": "markdown",
      "source": [
        "**Testcase 1.**\n",
        "\n",
        "**Input**: n = 19\n",
        "\n",
        "**Output**: True\n",
        "\n",
        "**Explanation**:\n",
        "\n",
        "$1^2 + 9^2 = 82$\n",
        "\n",
        "$8^2 + 2^2 = 68$\n",
        "\n",
        "$6^2 + 8^2 = 100$\n",
        "\n",
        "$1^2 + 0^2 + 0^2 = 1$"
      ],
      "metadata": {
        "id": "eRrh24Ognrqf"
      }
    },
    {
      "cell_type": "markdown",
      "source": [
        "**Testcase 2.**\n",
        "\n",
        "**Input**: n = 2\n",
        "\n",
        "**Output**: False"
      ],
      "metadata": {
        "id": "dE7YMY8qoPoj"
      }
    }
  ]
}